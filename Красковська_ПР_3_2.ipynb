{
  "nbformat": 4,
  "nbformat_minor": 0,
  "metadata": {
    "colab": {
      "provenance": []
    },
    "kernelspec": {
      "name": "python3",
      "display_name": "Python 3"
    },
    "language_info": {
      "name": "python"
    }
  },
  "cells": [
    {
      "cell_type": "code",
      "execution_count": 3,
      "metadata": {
        "id": "f3D4419v5BIL"
      },
      "outputs": [],
      "source": [
        "#1 Прочитайте csv файл (метод read_csv):\n",
        "import pandas as pd\n",
        "import numpy as np\n",
        "\n",
        "#1 Прочитайте CSV файл (використовуйте метод read_csv):\n",
        "df = pd.read_csv(\"/content/sample_data/bestsellers.csv\", encoding='latin-1')"
      ]
    },
    {
      "cell_type": "code",
      "source": [
        "#2 Виведіть перші 10 рядків (метод head):\n",
        "df_head_10 = df.head(10)\n",
        "print(df_head_10)"
      ],
      "metadata": {
        "colab": {
          "base_uri": "https://localhost:8080/"
        },
        "id": "vgn1eVB15pZv",
        "outputId": "547c2941-af85-480f-e4e6-ddf0de3bd4a1"
      },
      "execution_count": 4,
      "outputs": [
        {
          "output_type": "stream",
          "name": "stdout",
          "text": [
            "                                                Name  \\\n",
            "0                      10-Day Green Smoothie Cleanse   \n",
            "1                                  11/22/63: A Novel   \n",
            "2            12 Rules for Life: An Antidote to Chaos   \n",
            "3                             1984 (Signet Classics)   \n",
            "4  5,000 Awesome Facts (About Everything!) (Natio...   \n",
            "5      A Dance with Dragons (A Song of Ice and Fire)   \n",
            "6  A Game of Thrones / A Clash of Kings / A Storm...   \n",
            "7                     A Gentleman in Moscow: A Novel   \n",
            "8      A Higher Loyalty: Truth, Lies, and Leadership   \n",
            "9                          A Man Called Ove: A Novel   \n",
            "\n",
            "                     Author  User Rating  Reviews  Price  Year        Genre  \n",
            "0                  JJ Smith          4.7    17350      8  2016  Non Fiction  \n",
            "1              Stephen King          4.6     2052     22  2011      Fiction  \n",
            "2        Jordan B. Peterson          4.7    18979     15  2018  Non Fiction  \n",
            "3             George Orwell          4.7    21424      6  2017      Fiction  \n",
            "4  National Geographic Kids          4.8     7665     12  2019  Non Fiction  \n",
            "5       George R. R. Martin          4.4    12643     11  2011      Fiction  \n",
            "6       George R. R. Martin          4.7    19735     30  2014      Fiction  \n",
            "7               Amor Towles          4.7    19699     15  2017      Fiction  \n",
            "8               James Comey          4.7     5983      3  2018  Non Fiction  \n",
            "9           Fredrik Backman          4.6    23848      8  2016      Fiction  \n"
          ]
        }
      ]
    },
    {
      "cell_type": "code",
      "source": [
        "#3 Виведіть розміри датасету (метод shape):\n",
        "print(\"Про скільки книг зберігає дані датасет?\")\n",
        "print(df.shape)"
      ],
      "metadata": {
        "colab": {
          "base_uri": "https://localhost:8080/"
        },
        "id": "zOFF-g3M52El",
        "outputId": "5e9f062d-546a-40ce-8e3b-922dfd5c5063"
      },
      "execution_count": 6,
      "outputs": [
        {
          "output_type": "stream",
          "name": "stdout",
          "text": [
            "Про скільки книг зберігає дані датасет?\n",
            "(550, 7)\n"
          ]
        }
      ]
    },
    {
      "cell_type": "code",
      "source": [
        "#4\tЗмініть назви всіх колонок: назва з маленької букви, без пробілів через підкреслення.\n",
        "df.columns = ['name', 'author', 'user_rating', 'reviews', 'price', 'year', 'genre']\n",
        "\n",
        "# Виведіть перші 10 рядків для перевірки\n",
        "print(df.head(10))"
      ],
      "metadata": {
        "colab": {
          "base_uri": "https://localhost:8080/"
        },
        "id": "5Lp5-wdH58Jg",
        "outputId": "2e62639e-396b-4f7f-faab-2e5841874b58"
      },
      "execution_count": 8,
      "outputs": [
        {
          "output_type": "stream",
          "name": "stdout",
          "text": [
            "                                                name  \\\n",
            "0                      10-Day Green Smoothie Cleanse   \n",
            "1                                  11/22/63: A Novel   \n",
            "2            12 Rules for Life: An Antidote to Chaos   \n",
            "3                             1984 (Signet Classics)   \n",
            "4  5,000 Awesome Facts (About Everything!) (Natio...   \n",
            "5      A Dance with Dragons (A Song of Ice and Fire)   \n",
            "6  A Game of Thrones / A Clash of Kings / A Storm...   \n",
            "7                     A Gentleman in Moscow: A Novel   \n",
            "8      A Higher Loyalty: Truth, Lies, and Leadership   \n",
            "9                          A Man Called Ove: A Novel   \n",
            "\n",
            "                     author  user_rating  reviews  price  year        genre  \n",
            "0                  JJ Smith          4.7    17350      8  2016  Non Fiction  \n",
            "1              Stephen King          4.6     2052     22  2011      Fiction  \n",
            "2        Jordan B. Peterson          4.7    18979     15  2018  Non Fiction  \n",
            "3             George Orwell          4.7    21424      6  2017      Fiction  \n",
            "4  National Geographic Kids          4.8     7665     12  2019  Non Fiction  \n",
            "5       George R. R. Martin          4.4    12643     11  2011      Fiction  \n",
            "6       George R. R. Martin          4.7    19735     30  2014      Fiction  \n",
            "7               Amor Towles          4.7    19699     15  2017      Fiction  \n",
            "8               James Comey          4.7     5983      3  2018  Non Fiction  \n",
            "9           Fredrik Backman          4.6    23848      8  2016      Fiction  \n"
          ]
        }
      ]
    },
    {
      "cell_type": "code",
      "source": [
        "#5\tВивести кількість пропусків у кожному стовпчику:\n",
        "\n",
        "# Перевірка пропусків і підрахунок їх кількості в кожному стовпці, виведення кількості пропусків у кожному стовпці\n",
        "propusci = df.isna().sum()\n",
        "print(\"Кількість пропусків у кожному зі стовпців:\")\n",
        "print(propusci)\n",
        "\n",
        "print(\"Чи є в якихось змінних пропуски? (Так / ні)\")\n",
        "if propusci.sum() > 0:\n",
        "    print(\"Так\")\n",
        "else:\n",
        "    print(\"Ні\")"
      ],
      "metadata": {
        "colab": {
          "base_uri": "https://localhost:8080/"
        },
        "id": "B4iq8lDb61g2",
        "outputId": "1973b234-8dab-48dc-e070-935b1169d316"
      },
      "execution_count": 9,
      "outputs": [
        {
          "output_type": "stream",
          "name": "stdout",
          "text": [
            "Кількість пропусків у кожному зі стовпців:\n",
            "name           0\n",
            "author         0\n",
            "user_rating    0\n",
            "reviews        0\n",
            "price          0\n",
            "year           0\n",
            "genre          0\n",
            "dtype: int64\n",
            "Ні\n"
          ]
        }
      ]
    },
    {
      "cell_type": "code",
      "source": [
        "#6 За допомогою методу unique перевірте, які є унікальні жанри в стовпці genre:\n",
        "print(\"Які є унікальні жанри?\")\n",
        "unique_genres = df['genre'].unique()\n",
        "print(unique_genres)"
      ],
      "metadata": {
        "colab": {
          "base_uri": "https://localhost:8080/"
        },
        "id": "dzGinOyo7Uap",
        "outputId": "68570e32-b3a1-4288-c9c8-0d35637b192d"
      },
      "execution_count": 10,
      "outputs": [
        {
          "output_type": "stream",
          "name": "stdout",
          "text": [
            "['Non Fiction' 'Fiction']\n"
          ]
        }
      ]
    },
    {
      "cell_type": "code",
      "source": [
        "#7 Визначте максимальну, мінімальну, медіанну ціну за допомогою методів max, min, mean, median:\n",
        "# Максимальна ціна\n",
        "max_cina = df['price'].max()\n",
        "# Мінімальна ціна\n",
        "min_cina = df['price'].min()\n",
        "# Середня ціна\n",
        "mean_cina = df['price'].mean()\n",
        "# Медіанна ціна\n",
        "median_cina = df['price'].median()\n",
        "\n",
        "print(\"Максимальна ціна:\", max_cina)\n",
        "print(\"Мінімальна ціна:\", min_cina)\n",
        "print(\"Середня ціна:\", mean_cina)\n",
        "print(\"Медіанна ціна:\", median_cina)"
      ],
      "metadata": {
        "colab": {
          "base_uri": "https://localhost:8080/"
        },
        "id": "gyN6rLi77lPt",
        "outputId": "cdfae274-f4ad-4c85-c539-77a3871f1ab2"
      },
      "execution_count": 12,
      "outputs": [
        {
          "output_type": "stream",
          "name": "stdout",
          "text": [
            "Максимальна ціна: 105\n",
            "Мінімальна ціна: 0\n",
            "Середня ціна: 13.1\n",
            "Медіанна ціна: 11.0\n"
          ]
        }
      ]
    },
    {
      "cell_type": "code",
      "source": [
        "#8\tВиконайте наступні завдання з пошуку і сортування даних:\n",
        "\n",
        "# Питання: Який рейтинг у датасеті найвищий?\n",
        "nayvyschiy_rating = df['user_rating'].max()\n",
        "print(\"Найвищий рейтинг:\", nayvyschiy_rating)\n",
        "\n",
        "# Питання: Скільки книг мають такий рейтинг?\n",
        "knyhy_z_nayvyschim_rating = df[df['user_rating'] == nayvyschiy_rating]\n",
        "chyslo_knyh_z_nayvyschim_rating = len(knyhy_z_nayvyschim_rating)\n",
        "print(\"\\nКількість книг з найвищим рейтингом:\", chyslo_knyh_z_nayvyschim_rating)\n",
        "\n",
        "#Питання: Яка книга має найбільше відгуків?\n",
        "knyha_z_naybilshymy_vidhukamy = df[df['reviews'] == df['reviews'].max()]\n",
        "print(\"\\nКнига з найбільшою кількістю відгуків:\")\n",
        "print(knyha_z_naybilshymy_vidhukamy[['name', 'reviews']])\n",
        "\n",
        "#Питання: З тих книг, що потрапили до Топ-50 у 2010 році, яка книга найдорожча ?\n",
        "top_2010_knyhy = df[df['year'] == 2010]\n",
        "naydorozhcha_2010_knyha = top_2010_knyhy[top_2010_knyhy['price'] == top_2010_knyhy['price'].max()]\n",
        "print(\"\\nНайдорожча книга серед тих, що потрапили до Топ-50 у 2010 році:\")\n",
        "print(naydorozhcha_2010_knyha[['name', 'price']])\n",
        "\n",
        "#Питання: Скільки книг жанру Fiction потрапили до Топ-50 у 2012 році?\n",
        "fiction_knyhy_2012 = df[(df['genre'] == 'Fiction') & (df['year'] == 2012)]\n",
        "chyslo_fiction_knyhy_2012 = len(fiction_knyhy_2012)\n",
        "print(\"\\nКількість книг жанру Fiction у Топ-50 у 2012 році:\", chyslo_fiction_knyhy_2012)\n",
        "\n",
        "#Питання: Скільки книг з рейтингом 4.9 потрапило до рейтингу у 2010 та 2011 роках (використовуйте | або метод isin)?\n",
        "reytung_knyhy_2010_2011 = df[(df['user_rating'] == 4.9) & (df['year'].isin([2010, 2011]))]\n",
        "chyslo_reytung_knyhy_2010_2011 = len(reytung_knyhy_2010_2011)\n",
        "print(\"\\nКількість книг з рейтингом 4.9 у 2010 та 2011 роках:\", chyslo_reytung_knyhy_2010_2011)"
      ],
      "metadata": {
        "colab": {
          "base_uri": "https://localhost:8080/"
        },
        "id": "qnbb41Y37rUA",
        "outputId": "06fef78a-bc99-48a5-934f-47d916232107"
      },
      "execution_count": 19,
      "outputs": [
        {
          "output_type": "stream",
          "name": "stdout",
          "text": [
            "Найвищий рейтинг: 4.9\n",
            "\n",
            "Кількість книг з найвищим рейтингом: 52\n",
            "\n",
            "Книга з найбільшою кількістю відгуків:\n",
            "                        name  reviews\n",
            "534  Where the Crawdads Sing    87841\n",
            "\n",
            "Найдорожча книга серед тих, що потрапили до Топ-50 у 2010 році:\n",
            "                                                  name  price\n",
            "272  Publication Manual of the American Psychologic...     46\n",
            "\n",
            "Кількість книг жанру Fiction у Топ-50 у 2012 році: 21\n",
            "\n",
            "Кількість книг з рейтингом 4.9 у 2010 та 2011 роках: 1\n"
          ]
        }
      ]
    },
    {
      "cell_type": "code",
      "source": [
        "#9 Вивести максимальну і  мінімальну ціну для жанру Fiction I NonFiction(за допомогою методів groupby та agg, для підрахунку\n",
        "#мінімальних та максимальних значень використовуйте max та min). Використовуйте тількі потрібні вам стовпці:\n",
        "\n",
        "fiction_prices = df[df['genre'] == 'Fiction'].groupby('genre')['price'].agg([max, min])\n",
        "\n",
        "non_fiction_prices = df[df['genre'] == 'Non Fiction'].groupby('genre')['price'].agg([max, min])\n",
        "\n",
        "# Виводимо результати\n",
        "print(\"Максимальна та мінімальна ціна для жанру Fiction:\")\n",
        "print(fiction_prices)\n",
        "\n",
        "print(\"\\nМаксимальна та мінімальна ціна для жанру NonFiction:\")\n",
        "print(non_fiction_prices)"
      ],
      "metadata": {
        "colab": {
          "base_uri": "https://localhost:8080/"
        },
        "id": "4BLMp1Ev-MtM",
        "outputId": "6ee781d9-7317-411f-9cfc-eeaa046bede8"
      },
      "execution_count": 20,
      "outputs": [
        {
          "output_type": "stream",
          "name": "stdout",
          "text": [
            "Максимальна та мінімальна ціна для жанру Fiction:\n",
            "         max  min\n",
            "genre            \n",
            "Fiction   82    0\n",
            "\n",
            "Максимальна та мінімальна ціна для жанру NonFiction:\n",
            "             max  min\n",
            "genre                \n",
            "Non Fiction  105    0\n"
          ]
        }
      ]
    }
  ]
}