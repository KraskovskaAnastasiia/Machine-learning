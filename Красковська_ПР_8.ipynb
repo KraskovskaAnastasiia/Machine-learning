{
  "nbformat": 4,
  "nbformat_minor": 0,
  "metadata": {
    "colab": {
      "provenance": []
    },
    "kernelspec": {
      "name": "python3",
      "display_name": "Python 3"
    },
    "language_info": {
      "name": "python"
    }
  },
  "cells": [
    {
      "cell_type": "markdown",
      "source": [
        "1.Розробити за допомогою бібліотеки surprise рекомендаційну систему.\n",
        "Використати датасет   movielens-100k. Для кращого розуміння роздрукуйте датасет."
      ],
      "metadata": {
        "id": "2fbnBi8op48h"
      }
    },
    {
      "cell_type": "code",
      "source": [
        "#!pip install scikit-surprise\n",
        "import numpy as np\n",
        "import pandas as pd\n",
        "from surprise import Dataset, Reader, SVD, SVDpp, NMF, KNNBasic\n",
        "from surprise.model_selection import cross_validate\n",
        "import matplotlib.pyplot as plt\n",
        "\n",
        "data = Dataset.load_builtin('ml-100k')\n",
        "df = pd.DataFrame(data.raw_ratings, columns=['user', 'item', 'rating', 'timestamp'])\n",
        "print(df.head())"
      ],
      "metadata": {
        "id": "iWK2sQiSp5dx"
      },
      "execution_count": null,
      "outputs": []
    },
    {
      "cell_type": "markdown",
      "source": [
        "2. Використайте алгоритми SVD, SVDpp, NMF  + ще два на власний вибір.\n",
        "Найкращі параметри для всіх алгоритмів підберіть за допомогою крос-валідації.\n",
        "Крос-валідація використовується для оцінки того, наскільки добре ці алгоритми працюють на вашому датасеті.\n",
        "Обчисліть середнє значення середньоквадратичної помилки RMSE для кожного алгоритму на основі результатів крос-валідації.\n",
        "RMSE вказує на середню помилку у передбаченнях алгоритму.\n",
        "Зазвичай, алгоритм з найменшим значенням RMSE вважається найкращим для даного завдання рекомендації."
      ],
      "metadata": {
        "id": "nYirv3lyqkQQ"
      }
    },
    {
      "cell_type": "code",
      "source": [
        "reader = Reader(rating_scale=(1, 5))\n",
        "data = Dataset.load_from_df(df[['user', 'item', 'rating']], reader)\n",
        "\n",
        "# Оголошення алгоритмів, які ми хочемо порівняти\n",
        "algorithms = [SVD(), SVDpp(), NMF(), KNNBasic(sim_options={'name': 'cosine', 'user_based': False}),\n",
        "              KNNBasic(sim_options={'name': 'cosine', 'user_based': True})]\n",
        "\n",
        "algorithm_names = ['SVD', 'SVDpp', 'NMF', 'KNN Item-based', 'KNN User-based']\n",
        "rmse_values = []\n",
        "\n",
        "# Проведення крос-валідації та збереження RMSE\n",
        "for algorithm in algorithms:\n",
        "    results = cross_validate(algorithm, data, measures=['RMSE'], cv=5, verbose=False)\n",
        "    rmse_mean = np.mean(results['test_rmse'])\n",
        "    rmse_values.append(rmse_mean)\n",
        "\n",
        "# Візуалізація RMSE для кожного алгоритму\n",
        "plt.figure(figsize=(10, 6))\n",
        "plt.barh(algorithm_names, rmse_values, color='skyblue')\n",
        "plt.xlabel('RMSE')\n",
        "plt.title('Порівняння RMSE для різних алгоритмів')\n",
        "plt.xlim(0.7, 1.0)\n",
        "plt.grid(axis='x', linestyle='--', alpha=0.6)\n",
        "plt.show()"
      ],
      "metadata": {
        "colab": {
          "base_uri": "https://localhost:8080/"
        },
        "id": "p_EFofjSqPeB",
        "outputId": "14148b71-7b31-48ca-fa13-890cf7d47b8f"
      },
      "execution_count": null,
      "outputs": [
        {
          "output_type": "stream",
          "name": "stdout",
          "text": [
            "Computing the cosine similarity matrix...\n",
            "Done computing similarity matrix.\n",
            "Computing the cosine similarity matrix...\n",
            "Done computing similarity matrix.\n",
            "Computing the cosine similarity matrix...\n",
            "Done computing similarity matrix.\n",
            "Computing the cosine similarity matrix...\n",
            "Done computing similarity matrix.\n",
            "Computing the cosine similarity matrix...\n",
            "Done computing similarity matrix.\n"
          ]
        }
      ]
    },
    {
      "cell_type": "markdown",
      "source": [
        "3. Виберіть оптимальний алгоритм. Зробіть візуалізацію."
      ],
      "metadata": {
        "id": "RTNPz0tkqunF"
      }
    },
    {
      "cell_type": "code",
      "source": [
        "best_algorithm_index = np.argmin(rmse_values)\n",
        "best_algorithm = algorithms[best_algorithm_index]\n",
        "best_algorithm_name = algorithm_names[best_algorithm_index]\n",
        "\n",
        "print(f'Найкращий алгоритм: {best_algorithm_name}')"
      ],
      "metadata": {
        "id": "wW2h1u-kqRng"
      },
      "execution_count": null,
      "outputs": []
    },
    {
      "cell_type": "markdown",
      "source": [
        "4. Зробіть висновки."
      ],
      "metadata": {
        "id": "eBHzOpGVqzDQ"
      }
    },
    {
      "cell_type": "code",
      "source": [
        "print(f\"Найкращий алгоритм рекомендації: {best_algorithm_name}\")\n",
        "print(f\"Середнє RMSE для {best_algorithm_name}: {rmse_values[best_algorithm_index]}\")"
      ],
      "metadata": {
        "id": "KJqwu1jCqS74"
      },
      "execution_count": null,
      "outputs": []
    },
    {
      "cell_type": "markdown",
      "source": [
        "Висновок. Під час виконання практичної роботи 8 я розробити за допомогою бібліотеки surprise рекомендаційну систему за використанням датасету   movielens-100k. На практиці застосувала алгоритми SVD, SVDpp, NMF тощо, а крос-валідація стала мені у нагоді при підбірці найкращих параметрів для всіх алгоритмів. На завершальному етапі я обчислила середнє значення середньоквадратичної помилки RMSE для кожного алгоритму на основі результатів крос-валідації та виконала візуалізацію.\n",
        "\n"
      ],
      "metadata": {
        "id": "F8PempTVrd1Q"
      }
    }
  ]
}