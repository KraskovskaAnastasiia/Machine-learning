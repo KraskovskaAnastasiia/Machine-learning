{
  "nbformat": 4,
  "nbformat_minor": 0,
  "metadata": {
    "colab": {
      "provenance": []
    },
    "kernelspec": {
      "name": "python3",
      "display_name": "Python 3"
    },
    "language_info": {
      "name": "python"
    }
  },
  "cells": [
    {
      "cell_type": "markdown",
      "source": [
        "ЗАВДАННЯ 2. Розробити за допомогою бібліотеки surprise рекомендаційну систему.\n",
        "Використати датасет movielens-100k\n",
        "Використайте алгоритми SVD, SVDpp.\n",
        "Найкращі параметри для всіх алгоритмів підберіть за допомогою крос\u0002валідації.\n",
        "Обчисліть середнє значення середньоквадратичної помилки RMSE для\n",
        "кожного алгоритму на основі результатів крос-валідації.\n",
        "Виберіть оптимальний алгоритм. Зробіть візуалізацію.\n",
        "Зробіть висновки."
      ],
      "metadata": {
        "id": "8s8Rtu-Y7y_t"
      }
    },
    {
      "cell_type": "code",
      "execution_count": 13,
      "metadata": {
        "id": "5nDwZeYV7xlp"
      },
      "outputs": [],
      "source": [
        "#!pip install scikit-surprise\n",
        "\n",
        "import pandas as pd\n",
        "from surprise import Dataset, Reader\n",
        "from surprise.model_selection import cross_validate\n",
        "from surprise import SVD, SVDpp\n",
        "import matplotlib.pyplot as plt"
      ]
    },
    {
      "cell_type": "markdown",
      "source": [
        "1. Визначаємо reader для бібліотеки Surprise\n"
      ],
      "metadata": {
        "id": "vovJBfde74oj"
      }
    },
    {
      "cell_type": "code",
      "source": [
        "reader = Reader(line_format='user item rating timestamp', sep='\\t', rating_scale=(1, 5))"
      ],
      "metadata": {
        "id": "bOUixGIm78qW"
      },
      "execution_count": 14,
      "outputs": []
    },
    {
      "cell_type": "markdown",
      "source": [
        "2. Завантаження датасету за допомогою reader\n"
      ],
      "metadata": {
        "id": "zBEjVgM_79FV"
      }
    },
    {
      "cell_type": "code",
      "source": [
        "data = Dataset.load_from_file('/content/u.data', reader=reader)"
      ],
      "metadata": {
        "id": "tNsZHJjB8AJN"
      },
      "execution_count": 15,
      "outputs": []
    },
    {
      "cell_type": "markdown",
      "source": [
        "3. Визначаємо алгоритми\n"
      ],
      "metadata": {
        "id": "F7Sfgh6F8AuC"
      }
    },
    {
      "cell_type": "code",
      "source": [
        "svd_algorithm = SVD()\n",
        "svdpp_algorithm = SVDpp()"
      ],
      "metadata": {
        "id": "ZzVeKXEY8Gwl"
      },
      "execution_count": 16,
      "outputs": []
    },
    {
      "cell_type": "markdown",
      "source": [
        "4. а) Виконання крос-валідації для SVD\n"
      ],
      "metadata": {
        "id": "Yd86jE8V8HKB"
      }
    },
    {
      "cell_type": "code",
      "source": [
        "svd_cv_results = cross_validate(svd_algorithm, data, measures=['RMSE'], cv=5, verbose=True)"
      ],
      "metadata": {
        "id": "HPqmzUqo8Ksd",
        "colab": {
          "base_uri": "https://localhost:8080/"
        },
        "outputId": "879c3531-dc44-4ff8-eff8-27e6d231c93a"
      },
      "execution_count": 17,
      "outputs": [
        {
          "output_type": "stream",
          "name": "stdout",
          "text": [
            "Evaluating RMSE of algorithm SVD on 5 split(s).\n",
            "\n",
            "                  Fold 1  Fold 2  Fold 3  Fold 4  Fold 5  Mean    Std     \n",
            "RMSE (testset)    0.9445  0.9282  0.9340  0.9332  0.9359  0.9352  0.0053  \n",
            "Fit time          1.77    1.94    2.64    1.84    1.80    2.00    0.32    \n",
            "Test time         0.19    0.43    0.25    0.30    0.15    0.26    0.10    \n"
          ]
        }
      ]
    },
    {
      "cell_type": "markdown",
      "source": [
        "б) Виконання крос-валідації для SVDpp\n"
      ],
      "metadata": {
        "id": "7H6wzr5W8PGh"
      }
    },
    {
      "cell_type": "code",
      "source": [
        "svdpp_cv_results = cross_validate(svdpp_algorithm, data, measures=['RMSE'], cv=5, verbose=True)"
      ],
      "metadata": {
        "id": "ZjWv0Pj_8Ope",
        "colab": {
          "base_uri": "https://localhost:8080/"
        },
        "outputId": "ccdf69f6-8546-445a-b0ed-fe0f4601d89c"
      },
      "execution_count": 9,
      "outputs": [
        {
          "output_type": "stream",
          "name": "stdout",
          "text": [
            "Evaluating RMSE of algorithm SVDpp on 5 split(s).\n",
            "\n",
            "                  Fold 1  Fold 2  Fold 3  Fold 4  Fold 5  Mean    Std     \n",
            "RMSE (testset)    0.9149  0.9127  0.9245  0.9149  0.9299  0.9194  0.0067  \n",
            "Fit time          28.35   29.03   28.38   28.34   32.69   29.36   1.68    \n",
            "Test time         4.82    6.20    4.78    4.90    4.90    5.12    0.54    \n"
          ]
        }
      ]
    },
    {
      "cell_type": "markdown",
      "source": [
        "5. Обчислення середнього значення середньоквадратичної помилки RMSE для кожного алгоритму:\n"
      ],
      "metadata": {
        "id": "92lt7LbV8RT5"
      }
    },
    {
      "cell_type": "code",
      "source": [
        "avg_rmse_svd = svd_cv_results['test_rmse'].mean()\n",
        "avg_rmse_svdpp = svdpp_cv_results['test_rmse'].mean()"
      ],
      "metadata": {
        "id": "-nYwhn6m8anZ"
      },
      "execution_count": 10,
      "outputs": []
    },
    {
      "cell_type": "markdown",
      "source": [
        "6. Виведення середнього значення середньоквадратичної помилки RMSE для кожного алгоритму:"
      ],
      "metadata": {
        "id": "PbzsB-4d8a1o"
      }
    },
    {
      "cell_type": "code",
      "source": [
        "print(f'Середньє значення середньоквадратичної помилки RMSE для SVD: {avg_rmse_svd}')\n",
        "print(f'Середньє значення середньоквадратичної помилки RMSE для SVDpp: {avg_rmse_svdpp}')"
      ],
      "metadata": {
        "id": "nV_Gc-R38cJi",
        "colab": {
          "base_uri": "https://localhost:8080/"
        },
        "outputId": "2b0b2794-72dd-49b0-b6b6-8325cfc1b872"
      },
      "execution_count": 11,
      "outputs": [
        {
          "output_type": "stream",
          "name": "stdout",
          "text": [
            "Середньє значення середньоквадратичної помилки RMSE для SVD: 0.9361003181426082\n",
            "Середньє значення середньоквадратичної помилки RMSE для SVDpp: 0.9193760791105564\n"
          ]
        }
      ]
    },
    {
      "cell_type": "markdown",
      "source": [
        "7. Візуалізація результатів\n"
      ],
      "metadata": {
        "id": "JjC_aEc98pHF"
      }
    },
    {
      "cell_type": "code",
      "source": [
        "plt.bar(['SVD', 'SVDpp'], [avg_rmse_svd, avg_rmse_svdpp])\n",
        "plt.title('Середньє значення середньоквадратичної помилки')\n",
        "plt.xlabel('Алгоритм')\n",
        "plt.ylabel('Середньє значення середньоквадратичної помилки RMSE')\n",
        "plt.show()\n",
        "\n",
        "if avg_rmse_svd < avg_rmse_svdpp:\n",
        "    print('SVD - є оптимальним алгоритмом')\n",
        "else:\n",
        "    print('SVDpp - є оптимальним алгоритмом')"
      ],
      "metadata": {
        "id": "7hi9lljR8qSu",
        "colab": {
          "base_uri": "https://localhost:8080/",
          "height": 489
        },
        "outputId": "ad21cf45-f112-4ef3-c001-6368332a044e"
      },
      "execution_count": 12,
      "outputs": [
        {
          "output_type": "display_data",
          "data": {
            "text/plain": [
              "<Figure size 640x480 with 1 Axes>"
            ],
            "image/png": "[encoded data removed]"
          },
          "metadata": {}
        },
        {
          "output_type": "stream",
          "name": "stdout",
          "text": [
            "SVDpp - є оптимальним алгоритмом\n"
          ]
        }
      ]
    },
    {
      "cell_type": "markdown",
      "source": [
        "ВИСНОВОК. Розроблено за допомогою бібліотеки surprise рекомендаційну систему за використанням датасету movielens-100k та алгоритмів SVD, SVDpp. Найкращі параметри для всіх алгоритмів підібрані за допомогою крос-валідації.\n",
        " Обчислено середнє значення середньоквадратичної помилки RMSE для кожного алгоритму на основі результатів крос-валідації та зроблено візуалізацію.\n",
        "З усіх виконаних кроків можу зробити висновок, що алгоритм SVD є оптимальнішим.\n"
      ],
      "metadata": {
        "id": "IOM9IqBE9ZNt"
      }
    }
  ]
}