{
  "cells": [
    {
      "cell_type": "markdown",
      "source": [
        "Завдання 1. Класифікація ірисів\n",
        "З використанням алгоритмів SVM та Random Forest провести класифікацію ірисів за їхніми ознаками. Використовувати набір даних Iris, що належить бібліотеці scikit-learn.\n",
        "Для цього виконати наступні кроки:\n",
        "1. Завантажити набір даних Iris з бібліотеки scikit-learn.\n",
        "2. Розділити дані на тренувальний та тестовий набори.\n",
        "3. Застосувати алгоритм SVM для класифікації даних та визначити його\n",
        "точність.\n",
        "4. Застосувати Random Forest для класифікації даних та визначити його\n",
        "точність.\n",
        "5. Порівняти результати обох алгоритмів та обговорити їхню\n",
        "ефективність.\n"
      ],
      "metadata": {
        "id": "bCRZpfWqV0M5"
      }
    },
    {
      "cell_type": "code",
      "source": [
        "# 1. Завантажити набір даних Iris з бібліотеки scikit-learn.\n",
        "from sklearn import datasets\n",
        "from sklearn.model_selection import train_test_split\n",
        "from sklearn.svm import SVC\n",
        "from sklearn.ensemble import RandomForestClassifier\n",
        "from sklearn.metrics import accuracy_score\n",
        "\n",
        "iris = datasets.load_iris()\n",
        "print(iris.DESCR)\n",
        "\n",
        "# Ознаки датасету Iris\n",
        "X = iris.data\n",
        "# Класи датасету Iris\n",
        "y = iris.target"
      ],
      "outputs": [
        {
          "output_type": "stream",
          "name": "stdout",
          "text": ".. _iris_dataset:\n\nIris plants dataset\n--------------------\n\n**Data Set Characteristics:**\n\n    :Number of Instances: 150 (50 in each of three classes)\n    :Number of Attributes: 4 numeric, predictive attributes and the class\n    :Attribute Information:\n        - sepal length in cm\n        - sepal width in cm\n        - petal length in cm\n        - petal width in cm\n        - class:\n                - Iris-Setosa\n                - Iris-Versicolour\n                - Iris-Virginica\n                \n    :Summary Statistics:\n\n    ============== ==== ==== ======= ===== ====================\n                    Min  Max   Mean    SD   Class Correlation\n    ============== ==== ==== ======= ===== ====================\n    sepal length:   4.3  7.9   5.84   0.83    0.7826\n    sepal width:    2.0  4.4   3.05   0.43   -0.4194\n    petal length:   1.0  6.9   3.76   1.76    0.9490  (high!)\n    petal width:    0.1  2.5   1.20   0.76    0.9565  (high!)\n    ============== ==== ==== ======= ===== ====================\n\n    :Missing Attribute Values: None\n    :Class Distribution: 33.3% for each of 3 classes.\n    :Creator: R.A. Fisher\n    :Donor: Michael Marshall (MARSHALL%PLU@io.arc.nasa.gov)\n    :Date: July, 1988\n\nThe famous Iris database, first used by Sir R.A. Fisher. The dataset is taken\nfrom Fisher's paper. Note that it's the same as in R, but not as in the UCI\nMachine Learning Repository, which has two wrong data points.\n\nThis is perhaps the best known database to be found in the\npattern recognition literature.  Fisher's paper is a classic in the field and\nis referenced frequently to this day.  (See Duda & Hart, for example.)  The\ndata set contains 3 classes of 50 instances each, where each class refers to a\ntype of iris plant.  One class is linearly separable from the other 2; the\nlatter are NOT linearly separable from each other.\n\n.. topic:: References\n\n   - Fisher, R.A. \"The use of multiple measurements in taxonomic problems\"\n     Annual Eugenics, 7, Part II, 179-188 (1936); also in \"Contributions to\n     Mathematical Statistics\" (John Wiley, NY, 1950).\n   - Duda, R.O., & Hart, P.E. (1973) Pattern Classification and Scene Analysis.\n     (Q327.D83) John Wiley & Sons.  ISBN 0-471-22361-1.  See page 218.\n   - Dasarathy, B.V. (1980) \"Nosing Around the Neighborhood: A New System\n     Structure and Classification Rule for Recognition in Partially Exposed\n     Environments\".  IEEE Transactions on Pattern Analysis and Machine\n     Intelligence, Vol. PAMI-2, No. 1, 67-71.\n   - Gates, G.W. (1972) \"The Reduced Nearest Neighbor Rule\".  IEEE Transactions\n     on Information Theory, May 1972, 431-433.\n   - See also: 1988 MLC Proceedings, 54-64.  Cheeseman et al\"s AUTOCLASS II\n     conceptual clustering system finds 3 classes in the data.\n   - Many, many more ...\n"
        }
      ],
      "execution_count": 1,
      "metadata": {
        "colab": {
          "base_uri": "https://localhost:8080/"
        },
        "id": "7SH-k_zKV15s",
        "outputId": "07bd338e-e96d-4ca6-bbab-a9b08e3a92e6"
      }
    },
    {
      "cell_type": "code",
      "source": [
        "#2. Розділити дані на тренувальний та тестовий набори.\n",
        "X_train, X_test, y_train, y_test = train_test_split(X, y, test_size=0.2, random_state=42)"
      ],
      "outputs": [],
      "execution_count": null,
      "metadata": {
        "id": "eApDw2sHWI_C"
      }
    },
    {
      "cell_type": "code",
      "source": [
        "#3. Застосувати алгоритм SVM для класифікації даних та визначити його точність.\n",
        "svm_classifier = SVC(kernel='linear', C=1)\n",
        "svm_classifier.fit(X_train, y_train)\n",
        "svm_predictions = svm_classifier.predict(X_test)\n",
        "\n",
        "svm_accuracy = accuracy_score(y_test, svm_predictions)\n",
        "print(\"Точність моделі SVM:\", svm_accuracy)"
      ],
      "outputs": [],
      "execution_count": null,
      "metadata": {
        "id": "EXQOFiRXWMR0"
      }
    },
    {
      "cell_type": "code",
      "source": [
        "#4. Застосувати Random Forest для класифікації даних та визначити його точність.\n",
        "rf_classifier = RandomForestClassifier(n_estimators=100, random_state=42)\n",
        "rf_classifier.fit(X_train, y_train)\n",
        "rf_predictions = rf_classifier.predict(X_test)\n",
        "\n",
        "rf_accuracy = accuracy_score(y_test, rf_predictions)\n",
        "print(\"Точність Random Forest:\", rf_accuracy)"
      ],
      "outputs": [],
      "execution_count": null,
      "metadata": {
        "id": "QNzhdjGrWTAS"
      }
    },
    {
      "cell_type": "code",
      "source": [
        "#5. Порівняти результати обох алгоритмів та обговорити їхню ефективність.\n",
        "if svm_accuracy > rf_accuracy:\n",
        "    print(\"SVM точніший за Random Forest.\")\n",
        "elif svm_accuracy < rf_accuracy:\n",
        "    print(\"Random Forest точніший за SVM.\")\n",
        "else:\n",
        "    print(\"SVM і Random Forest однаково точні.\")"
      ],
      "outputs": [],
      "execution_count": null,
      "metadata": {
        "id": "8k72gy5cWTdc"
      }
    },
    {
      "cell_type": "markdown",
      "source": [],
      "metadata": {
        "id": "-TC8NGzDW6zk"
      }
    },
    {
      "cell_type": "markdown",
      "source": [
        "Після виконання першої частини лабораторної роботи 6 з класифікації ірисів за допомогою алгоритмів SVM та Random Forest на наборі даних Iris з бібліотеки scikit-learn, я засвоїла на практиці знання з використання цих алгоритмів, визначення точності їх роботи та порівняла їх точності, які на практиці проявили однакові значення."
      ],
      "metadata": {
        "id": "ccf5ca6a-88cf-4232-925f-03be396065c7"
      }
    }
  ],
  "metadata": {
    "colab": {
      "provenance": []
    },
    "kernelspec": {
      "name": "python",
      "language": "python",
      "display_name": "Pyolite (preview)"
    },
    "language_info": {
      "codemirror_mode": {
        "name": "python",
        "version": 3
      },
      "file_extension": ".py",
      "mimetype": "text/x-python",
      "name": "python",
      "nbconvert_exporter": "python",
      "pygments_lexer": "ipython3",
      "version": "3.8"
    },
    "kernel_info": {
      "name": "python"
    },
    "nteract": {
      "version": "nteract-front-end@1.0.0"
    }
  },
  "nbformat": 4,
  "nbformat_minor": 0
}