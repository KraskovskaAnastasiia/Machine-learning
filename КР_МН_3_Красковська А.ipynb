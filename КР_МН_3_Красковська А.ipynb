{
  "nbformat": 4,
  "nbformat_minor": 0,
  "metadata": {
    "colab": {
      "provenance": [],
      "toc_visible": true
    },
    "kernelspec": {
      "name": "python3",
      "display_name": "Python 3"
    },
    "language_info": {
      "name": "python"
    }
  },
  "cells": [
    {
      "cell_type": "markdown",
      "source": [
        "ЗАВДАННЯ 3.\n",
        "Розробити згорткову нейронну мережу для розпізнавання зображень датасету\n",
        "cifar_10. Підібрати оптимальну кількість шарів, функції активації, кількіть\n",
        "епох навчання, розмір bath_size. Навчити модель. Розрахувати функцію втрат\n",
        "і точності. Побудувати відповідні графіки. Візуалізувати результати. Зробити\n",
        "висновки.\n",
        "Зверніть увагу, що згорткова модель довго навчається, тому краще брати\n",
        "кількість епох до 10."
      ],
      "metadata": {
        "id": "Xa7degAjvhN3"
      }
    },
    {
      "cell_type": "code",
      "execution_count": 36,
      "metadata": {
        "id": "IriWKOwSvTHO"
      },
      "outputs": [],
      "source": [
        "import tensorflow as tf\n",
        "from tensorflow.keras import layers, models\n",
        "from tensorflow.keras.datasets import cifar10\n",
        "from tensorflow.keras.utils import to_categorical\n",
        "import matplotlib.pyplot as plt"
      ]
    },
    {
      "cell_type": "markdown",
      "source": [
        "1. Завантаження та підготовка даних. Далі, нормалізація значень пікселів до діапазону [0, 1]"
      ],
      "metadata": {
        "id": "aP2uSwEb0L5L"
      }
    },
    {
      "cell_type": "code",
      "source": [
        "(x_train, y_train), (x_test, y_test) = cifar10.load_data()\n",
        "x_train, x_test = x_train / 255.0, x_test / 255.0\n",
        "y_train, y_test = to_categorical(y_train), to_categorical(y_test)"
      ],
      "metadata": {
        "id": "hFlBRN64vbwI"
      },
      "execution_count": 37,
      "outputs": []
    },
    {
      "cell_type": "markdown",
      "source": [
        "2. Створення згорткової нейронної мережі"
      ],
      "metadata": {
        "id": "JV6ohlCgvxa2"
      }
    },
    {
      "cell_type": "code",
      "source": [
        "model = models.Sequential()\n",
        "model.add(layers.Conv2D(32, (3, 3), activation='relu', input_shape=(32, 32, 3)))\n",
        "model.add(layers.MaxPooling2D((2, 2)))\n",
        "model.add(layers.Conv2D(64, (3, 3), activation='relu'))\n",
        "model.add(layers.MaxPooling2D((2, 2)))\n",
        "model.add(layers.Conv2D(64, (3, 3), activation='relu'))\n",
        "model.add(layers.Flatten())\n",
        "model.add(layers.Dense(64, activation='relu'))\n",
        "model.add(layers.Dense(10, activation='softmax'))"
      ],
      "metadata": {
        "id": "oaW8FCAsvdRG"
      },
      "execution_count": 38,
      "outputs": []
    },
    {
      "cell_type": "markdown",
      "source": [
        "3. Компіляція моделі"
      ],
      "metadata": {
        "id": "9qjXhxa4vu3G"
      }
    },
    {
      "cell_type": "code",
      "source": [
        "model.compile(optimizer='adam',\n",
        "              loss='categorical_crossentropy',\n",
        "              metrics=['accuracy'])"
      ],
      "metadata": {
        "id": "4YBvFpUIvs4e"
      },
      "execution_count": 39,
      "outputs": []
    },
    {
      "cell_type": "markdown",
      "source": [
        "4. Виведення структури моделі\n"
      ],
      "metadata": {
        "id": "eWt4gq2av5U2"
      }
    },
    {
      "cell_type": "code",
      "source": [
        "model.summary()"
      ],
      "metadata": {
        "id": "FNk1wpEjv97q",
        "colab": {
          "base_uri": "https://localhost:8080/"
        },
        "outputId": "70aa27eb-3df2-4f22-8bcb-7e8e5de2e6c9"
      },
      "execution_count": 40,
      "outputs": [
        {
          "output_type": "stream",
          "name": "stdout",
          "text": [
            "Model: \"sequential_3\"\n",
            "_________________________________________________________________\n",
            " Layer (type)                Output Shape              Param #   \n",
            "=================================================================\n",
            " conv2d_9 (Conv2D)           (None, 30, 30, 32)        896       \n",
            "                                                                 \n",
            " max_pooling2d_6 (MaxPoolin  (None, 15, 15, 32)        0         \n",
            " g2D)                                                            \n",
            "                                                                 \n",
            " conv2d_10 (Conv2D)          (None, 13, 13, 64)        18496     \n",
            "                                                                 \n",
            " max_pooling2d_7 (MaxPoolin  (None, 6, 6, 64)          0         \n",
            " g2D)                                                            \n",
            "                                                                 \n",
            " conv2d_11 (Conv2D)          (None, 4, 4, 64)          36928     \n",
            "                                                                 \n",
            " flatten_3 (Flatten)         (None, 1024)              0         \n",
            "                                                                 \n",
            " dense_6 (Dense)             (None, 64)                65600     \n",
            "                                                                 \n",
            " dense_7 (Dense)             (None, 10)                650       \n",
            "                                                                 \n",
            "=================================================================\n",
            "Total params: 122570 (478.79 KB)\n",
            "Trainable params: 122570 (478.79 KB)\n",
            "Non-trainable params: 0 (0.00 Byte)\n",
            "_________________________________________________________________\n"
          ]
        }
      ]
    },
    {
      "cell_type": "markdown",
      "source": [
        "5. Навчання моделі"
      ],
      "metadata": {
        "id": "uxc5nPm10mp7"
      }
    },
    {
      "cell_type": "code",
      "source": [
        "history = model.fit(x_train, y_train, epochs=10, batch_size=64, validation_data=(x_test, y_test))"
      ],
      "metadata": {
        "id": "BJElCO76wpTH",
        "colab": {
          "base_uri": "https://localhost:8080/"
        },
        "outputId": "ded7a3d6-aa5d-4b44-c3c9-0bdd2eb06ece"
      },
      "execution_count": 41,
      "outputs": [
        {
          "output_type": "stream",
          "name": "stdout",
          "text": [
            "Epoch 1/10\n",
            "782/782 [==============================] - 69s 88ms/step - loss: 1.6219 - accuracy: 0.4049 - val_loss: 1.3254 - val_accuracy: 0.5175\n",
            "Epoch 2/10\n",
            "782/782 [==============================] - 65s 83ms/step - loss: 1.2723 - accuracy: 0.5448 - val_loss: 1.1724 - val_accuracy: 0.5849\n",
            "Epoch 3/10\n",
            "782/782 [==============================] - 67s 86ms/step - loss: 1.1085 - accuracy: 0.6078 - val_loss: 1.1122 - val_accuracy: 0.5987\n",
            "Epoch 4/10\n",
            "782/782 [==============================] - 67s 86ms/step - loss: 1.0060 - accuracy: 0.6472 - val_loss: 1.0171 - val_accuracy: 0.6390\n",
            "Epoch 5/10\n",
            "782/782 [==============================] - 67s 86ms/step - loss: 0.9373 - accuracy: 0.6722 - val_loss: 0.9466 - val_accuracy: 0.6706\n",
            "Epoch 6/10\n",
            "782/782 [==============================] - 67s 86ms/step - loss: 0.8776 - accuracy: 0.6927 - val_loss: 0.9238 - val_accuracy: 0.6774\n",
            "Epoch 7/10\n",
            "782/782 [==============================] - 68s 86ms/step - loss: 0.8241 - accuracy: 0.7108 - val_loss: 0.8986 - val_accuracy: 0.6846\n",
            "Epoch 8/10\n",
            "782/782 [==============================] - 65s 83ms/step - loss: 0.7797 - accuracy: 0.7267 - val_loss: 0.8908 - val_accuracy: 0.6940\n",
            "Epoch 9/10\n",
            "782/782 [==============================] - 67s 86ms/step - loss: 0.7380 - accuracy: 0.7413 - val_loss: 0.9432 - val_accuracy: 0.6839\n",
            "Epoch 10/10\n",
            "782/782 [==============================] - 65s 83ms/step - loss: 0.7010 - accuracy: 0.7539 - val_loss: 0.8581 - val_accuracy: 0.7008\n"
          ]
        }
      ]
    },
    {
      "cell_type": "markdown",
      "source": [
        "6. Оцінка моделі на тестовому наборі\n"
      ],
      "metadata": {
        "id": "gsnvoVKLw1BZ"
      }
    },
    {
      "cell_type": "code",
      "source": [
        "test_loss, test_acc = model.evaluate(x_test, y_test)\n",
        "print(f'Тестовий набір: {test_acc}')"
      ],
      "metadata": {
        "id": "i9wxoMViw2jF",
        "colab": {
          "base_uri": "https://localhost:8080/"
        },
        "outputId": "8dc49aa1-2dac-4d75-bb84-79dc03f18c21"
      },
      "execution_count": 42,
      "outputs": [
        {
          "output_type": "stream",
          "name": "stdout",
          "text": [
            "313/313 [==============================] - 5s 15ms/step - loss: 0.8581 - accuracy: 0.7008\n",
            "Тестовий набір: 0.7008000016212463\n"
          ]
        }
      ]
    },
    {
      "cell_type": "markdown",
      "source": [
        "7. Візуалізація результатів."
      ],
      "metadata": {
        "id": "0OoBnxldxR_K"
      }
    },
    {
      "cell_type": "code",
      "source": [
        "plt.figure(figsize=(12, 4))"
      ],
      "metadata": {
        "id": "47k_TMygxS_S",
        "colab": {
          "base_uri": "https://localhost:8080/",
          "height": 52
        },
        "outputId": "e0f14e1e-5882-4fa5-e6ab-98134059ac76"
      },
      "execution_count": 43,
      "outputs": [
        {
          "output_type": "execute_result",
          "data": {
            "text/plain": [
              "<Figure size 1200x400 with 0 Axes>"
            ]
          },
          "metadata": {},
          "execution_count": 43
        },
        {
          "output_type": "display_data",
          "data": {
            "text/plain": [
              "<Figure size 1200x400 with 0 Axes>"
            ]
          },
          "metadata": {}
        }
      ]
    },
    {
      "cell_type": "markdown",
      "source": [
        "8. Графік точності\n"
      ],
      "metadata": {
        "id": "ooBUduKt00mw"
      }
    },
    {
      "cell_type": "code",
      "source": [
        "plt.subplot(1, 2, 1)\n",
        "plt.plot(history.history['accuracy'], label='Training Accuracy')\n",
        "plt.plot(history.history['val_accuracy'], label='Validation Accuracy')\n",
        "plt.xlabel('Epochs')\n",
        "plt.ylabel('Accuracy')\n",
        "plt.legend()"
      ],
      "metadata": {
        "id": "yVJDy8_c02OD",
        "colab": {
          "base_uri": "https://localhost:8080/",
          "height": 466
        },
        "outputId": "f183408a-095d-4dac-97c4-46bc522e01e3"
      },
      "execution_count": 45,
      "outputs": [
        {
          "output_type": "execute_result",
          "data": {
            "text/plain": [
              "<matplotlib.legend.Legend at 0x7eb409cab220>"
            ]
          },
          "metadata": {},
          "execution_count": 45
        },
        {
          "output_type": "display_data",
          "data": {
            "text/plain": [
              "<Figure size 640x480 with 1 Axes>"
            ],
            "image/png": "[encoded data removed]"
          },
          "metadata": {}
        }
      ]
    },
    {
      "cell_type": "markdown",
      "source": [
        "9. Графік функції втрат\n"
      ],
      "metadata": {
        "id": "bwCUbo6V030_"
      }
    },
    {
      "cell_type": "code",
      "source": [
        "plt.subplot(1, 2, 2)\n",
        "plt.plot(history.history['loss'], label='Training Loss')\n",
        "plt.plot(history.history['val_loss'], label='Validation Loss')\n",
        "plt.xlabel('Epochs')\n",
        "plt.ylabel('Loss')\n",
        "plt.legend()\n",
        "\n",
        "plt.show()"
      ],
      "metadata": {
        "id": "vWuq-cge051L",
        "colab": {
          "base_uri": "https://localhost:8080/",
          "height": 449
        },
        "outputId": "eac9ef8e-e0f9-4e68-8419-2c173fa3aec0"
      },
      "execution_count": 46,
      "outputs": [
        {
          "output_type": "display_data",
          "data": {
            "text/plain": [
              "<Figure size 640x480 with 1 Axes>"
            ],
            "image/png": "[encoded data removed]"
          },
          "metadata": {}
        }
      ]
    },
    {
      "cell_type": "markdown",
      "source": [
        "ВИСНОВОК. Отже, розроблено згорткову нейронну мережу для розпізнавання зображень датасету cifar_10. Також, у ході виконання я підібрала оптимальну кількість шарів, функції активації, кількіть епох навчання, розмір bath_size та навчила модель, розрахованофункцію втрат і точності.\n",
        "Для візуалізування результатів побудувано відповідні графіки.Кількість епох = 10.\n",
        "За графіками функції точності видно, що вони розташовуються у зростаючому порядку.\n",
        "А графіки фукції втрат - у спадаючому.\n",
        "Отже,згорткова нейронна мережа навчена та функціонує вірно."
      ],
      "metadata": {
        "id": "dJNfHiomxicW"
      }
    }
  ]
}