{
  "nbformat": 4,
  "nbformat_minor": 0,
  "metadata": {
    "colab": {
      "provenance": []
    },
    "kernelspec": {
      "name": "python3",
      "display_name": "Python 3"
    },
    "language_info": {
      "name": "python"
    }
  },
  "cells": [
    {
      "cell_type": "code",
      "execution_count": 81,
      "metadata": {
        "id": "Y-nUQFdvfmiy"
      },
      "outputs": [],
      "source": [
        "import pandas as pd\n",
        "import numpy as np\n",
        "\n",
        "#1 Прочитайте CSV файл (використовуйте метод read_csv):\n",
        "df = pd.read_csv(\"/content/sample_data/statistic.csv\", encoding='latin-1')"
      ]
    },
    {
      "cell_type": "code",
      "source": [
        "#2 Виведіть перші п'ять рядків (використовується метод head):\n",
        "df_head_5 = df.head(5)\n",
        "print(df_head_5)"
      ],
      "metadata": {
        "colab": {
          "base_uri": "https://localhost:8080/"
        },
        "id": "04s_F-5Rxhsk",
        "outputId": "fe4f5866-fc91-4cbf-82af-6f118ad14b60"
      },
      "execution_count": 82,
      "outputs": [
        {
          "output_type": "stream",
          "name": "stdout",
          "text": [
            "   rank                    Youtuber  subscribers   video views  \\\n",
            "0     1                    T-Series    245000000  2.280000e+11   \n",
            "1     2              YouTube Movies    170000000  0.000000e+00   \n",
            "2     3                     MrBeast    166000000  2.836884e+10   \n",
            "3     4  Cocomelon - Nursery Rhymes    162000000  1.640000e+11   \n",
            "4     5                   SET India    159000000  1.480000e+11   \n",
            "\n",
            "           category                       Title  uploads        Country  \\\n",
            "0             Music                    T-Series    20082          India   \n",
            "1  Film & Animation               youtubemovies        1  United States   \n",
            "2     Entertainment                     MrBeast      741  United States   \n",
            "3         Education  Cocomelon - Nursery Rhymes      966  United States   \n",
            "4             Shows                   SET India   116536          India   \n",
            "\n",
            "  Abbreviation   channel_type  ...  subscribers_for_last_30_days  \\\n",
            "0           IN          Music  ...                     2000000.0   \n",
            "1           US          Games  ...                           NaN   \n",
            "2           US  Entertainment  ...                     8000000.0   \n",
            "3           US      Education  ...                     1000000.0   \n",
            "4           IN  Entertainment  ...                     1000000.0   \n",
            "\n",
            "   created_year  created_month  created_date  \\\n",
            "0        2006.0            Mar          13.0   \n",
            "1        2006.0            Mar           5.0   \n",
            "2        2012.0            Feb          20.0   \n",
            "3        2006.0            Sep           1.0   \n",
            "4        2006.0            Sep          20.0   \n",
            "\n",
            "   Gross tertiary education enrollment (%)    Population  Unemployment rate  \\\n",
            "0                                     28.1  1.366418e+09               5.36   \n",
            "1                                     88.2  3.282395e+08              14.70   \n",
            "2                                     88.2  3.282395e+08              14.70   \n",
            "3                                     88.2  3.282395e+08              14.70   \n",
            "4                                     28.1  1.366418e+09               5.36   \n",
            "\n",
            "   Urban_population   Latitude  Longitude  \n",
            "0       471031528.0  20.593684  78.962880  \n",
            "1       270663028.0  37.090240 -95.712891  \n",
            "2       270663028.0  37.090240 -95.712891  \n",
            "3       270663028.0  37.090240 -95.712891  \n",
            "4       471031528.0  20.593684  78.962880  \n",
            "\n",
            "[5 rows x 28 columns]\n"
          ]
        }
      ]
    },
    {
      "cell_type": "code",
      "source": [
        "#3 Виведіть розміри датасету (використовуйте методshape):\n",
        "print(df.shape)"
      ],
      "metadata": {
        "colab": {
          "base_uri": "https://localhost:8080/"
        },
        "id": "aUVkwWBCxsgK",
        "outputId": "1952c1b5-c7f4-48f3-8ab5-997412e83750"
      },
      "execution_count": 83,
      "outputs": [
        {
          "output_type": "stream",
          "name": "stdout",
          "text": [
            "(995, 28)\n"
          ]
        }
      ]
    },
    {
      "cell_type": "code",
      "source": [
        "#4 Перевірте, чи у всіх рядків вистачає даних: виведіть кількість пропусків  у кожному зі стовпців (використовуйте методи isna та sum).\n",
        "#Якщо є пропуски, замінить їх на NaN, потім тип даних на числовий:\n",
        "\n",
        "# Перевірка пропусків і підрахунок їх кількості в кожному стовпці, виведення кількості пропусків у кожному стовпці\n",
        "propusci = df.isna().sum()\n",
        "print(\"Кількість пропусків у кожному зі стовпців:\")\n",
        "print(propusci)\n",
        "\n",
        "# Заміна пропусків на NaN і зміна типу даних на числовий\n",
        "df = df.fillna(np.nan)\n",
        "\n",
        "# Перевірка кожного стовпця на наявність np.nan\n",
        "for column in df.columns:\n",
        "    if df[column].isna().any():\n",
        "        try:\n",
        "            df[column] = df[column].astype(float)\n",
        "        except:\n",
        "            pass\n",
        "\n",
        "# Виведення інформації про типи даних після змін\n",
        "print(df.dtypes)"
      ],
      "metadata": {
        "colab": {
          "base_uri": "https://localhost:8080/"
        },
        "id": "OaYCKxX1yjgZ",
        "outputId": "acc39b76-c6ba-46ed-b557-6da039359df6"
      },
      "execution_count": 86,
      "outputs": [
        {
          "output_type": "stream",
          "name": "stdout",
          "text": [
            "Кількість пропусків у кожному зі стовпців:\n",
            "rank                                         0\n",
            "Youtuber                                     0\n",
            "subscribers                                  0\n",
            "video views                                  0\n",
            "category                                    46\n",
            "Title                                        0\n",
            "uploads                                      0\n",
            "Country                                    122\n",
            "Abbreviation                               122\n",
            "channel_type                                30\n",
            "video_views_rank                             1\n",
            "country_rank                               116\n",
            "channel_type_rank                           33\n",
            "video_views_for_the_last_30_days            56\n",
            "lowest_monthly_earnings                      0\n",
            "highest_monthly_earnings                     0\n",
            "lowest_yearly_earnings                       0\n",
            "highest_yearly_earnings                      0\n",
            "subscribers_for_last_30_days               337\n",
            "created_year                                 5\n",
            "created_month                                5\n",
            "created_date                                 5\n",
            "Gross tertiary education enrollment (%)    123\n",
            "Population                                 123\n",
            "Unemployment rate                          123\n",
            "Urban_population                           123\n",
            "Latitude                                   123\n",
            "Longitude                                  123\n",
            "dtype: int64\n",
            "rank                                         int64\n",
            "Youtuber                                    object\n",
            "subscribers                                  int64\n",
            "video views                                float64\n",
            "category                                    object\n",
            "Title                                       object\n",
            "uploads                                      int64\n",
            "Country                                     object\n",
            "Abbreviation                                object\n",
            "channel_type                                object\n",
            "video_views_rank                           float64\n",
            "country_rank                               float64\n",
            "channel_type_rank                          float64\n",
            "video_views_for_the_last_30_days           float64\n",
            "lowest_monthly_earnings                    float64\n",
            "highest_monthly_earnings                   float64\n",
            "lowest_yearly_earnings                     float64\n",
            "highest_yearly_earnings                    float64\n",
            "subscribers_for_last_30_days               float64\n",
            "created_year                               float64\n",
            "created_month                               object\n",
            "created_date                               float64\n",
            "Gross tertiary education enrollment (%)    float64\n",
            "Population                                 float64\n",
            "Unemployment rate                          float64\n",
            "Urban_population                           float64\n",
            "Latitude                                   float64\n",
            "Longitude                                  float64\n",
            "dtype: object\n"
          ]
        }
      ]
    },
    {
      "cell_type": "code",
      "source": [
        "#5 Замініть комірки з пропущеними значенями на середні за стовпцем. І тип даних на float:\n",
        "# Заміна пропущених значень на середні за стовпцем\n",
        "\n",
        "nan_stovpci = df.columns[df.isna().any()].tolist()\n",
        "\n",
        "# Заміна пропущених значень на середні за стовпцем\n",
        "for column in nan_stovpci:\n",
        "    if np.issubdtype(df[column].dtype, np.number):\n",
        "        serednye_znachennya_stovpcya = df[column].mean()\n",
        "        df[column] = df[column].fillna(serednye_znachennya_stovpcya)\n",
        "\n",
        "print(df)"
      ],
      "metadata": {
        "colab": {
          "base_uri": "https://localhost:8080/"
        },
        "id": "hgsJOipJz6UZ",
        "outputId": "2ee8eda8-cf4c-49f2-90a3-ed098e0b48ac"
      },
      "execution_count": 91,
      "outputs": [
        {
          "output_type": "stream",
          "name": "stdout",
          "text": [
            "     rank                    Youtuber  subscribers   video views  \\\n",
            "0       1                    T-Series    245000000  2.280000e+11   \n",
            "1       2              YouTube Movies    170000000  0.000000e+00   \n",
            "2       3                     MrBeast    166000000  2.836884e+10   \n",
            "3       4  Cocomelon - Nursery Rhymes    162000000  1.640000e+11   \n",
            "4       5                   SET India    159000000  1.480000e+11   \n",
            "..    ...                         ...          ...           ...   \n",
            "990   991               Natan por Aï¿     12300000  9.029610e+09   \n",
            "991   992    Free Fire India Official     12300000  1.674410e+09   \n",
            "992   993                       Panda     12300000  2.214684e+09   \n",
            "993   994                 RobTopGames     12300000  3.741235e+08   \n",
            "994   995                Make Joke Of     12300000  2.129774e+09   \n",
            "\n",
            "             category                       Title  uploads         Country  \\\n",
            "0               Music                    T-Series    20082           India   \n",
            "1    Film & Animation               youtubemovies        1   United States   \n",
            "2       Entertainment                     MrBeast      741   United States   \n",
            "3           Education  Cocomelon - Nursery Rhymes      966   United States   \n",
            "4               Shows                   SET India   116536           India   \n",
            "..                ...                         ...      ...             ...   \n",
            "990            Sports               Natan por Aï¿     1200          Brazil   \n",
            "991    People & Blogs    Free Fire India Official     1500           India   \n",
            "992               NaN                 HybridPanda     2452  United Kingdom   \n",
            "993            Gaming                 RobTopGames       39          Sweden   \n",
            "994            Comedy                Make Joke Of       62           India   \n",
            "\n",
            "    Abbreviation   channel_type  ...  subscribers_for_last_30_days  \\\n",
            "0             IN          Music  ...                  2.000000e+06   \n",
            "1             US          Games  ...                  3.490791e+05   \n",
            "2             US  Entertainment  ...                  8.000000e+06   \n",
            "3             US      Education  ...                  1.000000e+06   \n",
            "4             IN  Entertainment  ...                  1.000000e+06   \n",
            "..           ...            ...  ...                           ...   \n",
            "990           BR  Entertainment  ...                  7.000000e+05   \n",
            "991           IN          Games  ...                  3.000000e+05   \n",
            "992           GB          Games  ...                  1.000000e+03   \n",
            "993           SE          Games  ...                  1.000000e+05   \n",
            "994           IN         Comedy  ...                  1.000000e+05   \n",
            "\n",
            "     created_year  created_month  created_date  \\\n",
            "0          2006.0            Mar          13.0   \n",
            "1          2006.0            Mar           5.0   \n",
            "2          2012.0            Feb          20.0   \n",
            "3          2006.0            Sep           1.0   \n",
            "4          2006.0            Sep          20.0   \n",
            "..            ...            ...           ...   \n",
            "990        2017.0            Feb          12.0   \n",
            "991        2018.0            Sep          14.0   \n",
            "992        2006.0            Sep          11.0   \n",
            "993        2012.0            May           9.0   \n",
            "994        2017.0            Aug           1.0   \n",
            "\n",
            "     Gross tertiary education enrollment (%)    Population  Unemployment rate  \\\n",
            "0                                       28.1  1.366418e+09               5.36   \n",
            "1                                       88.2  3.282395e+08              14.70   \n",
            "2                                       88.2  3.282395e+08              14.70   \n",
            "3                                       88.2  3.282395e+08              14.70   \n",
            "4                                       28.1  1.366418e+09               5.36   \n",
            "..                                       ...           ...                ...   \n",
            "990                                     51.3  2.125594e+08              12.08   \n",
            "991                                     28.1  1.366418e+09               5.36   \n",
            "992                                     60.0  6.683440e+07               3.85   \n",
            "993                                     67.0  1.028545e+07               6.48   \n",
            "994                                     28.1  1.366418e+09               5.36   \n",
            "\n",
            "     Urban_population   Latitude  Longitude  \n",
            "0         471031528.0  20.593684  78.962880  \n",
            "1         270663028.0  37.090240 -95.712891  \n",
            "2         270663028.0  37.090240 -95.712891  \n",
            "3         270663028.0  37.090240 -95.712891  \n",
            "4         471031528.0  20.593684  78.962880  \n",
            "..                ...        ...        ...  \n",
            "990       183241641.0 -14.235004 -51.925280  \n",
            "991       471031528.0  20.593684  78.962880  \n",
            "992        55908316.0  55.378051  -3.435973  \n",
            "993         9021165.0  60.128161  18.643501  \n",
            "994       471031528.0  20.593684  78.962880  \n",
            "\n",
            "[995 rows x 28 columns]\n"
          ]
        }
      ]
    },
    {
      "cell_type": "code",
      "source": [
        "#6 Ще раз перевірте кількість пропусків:\n",
        "# Виведення кількості пропусків у кожному стовпці\n",
        "propusci = df.isna().sum()\n",
        "print(propusci)"
      ],
      "metadata": {
        "colab": {
          "base_uri": "https://localhost:8080/"
        },
        "id": "A4BN9Auc0oCw",
        "outputId": "599fe549-8bb2-423e-cc2f-2ee1da55f0d8"
      },
      "execution_count": 93,
      "outputs": [
        {
          "output_type": "stream",
          "name": "stdout",
          "text": [
            "rank                                         0\n",
            "Youtuber                                     0\n",
            "subscribers                                  0\n",
            "video views                                  0\n",
            "category                                    46\n",
            "Title                                        0\n",
            "uploads                                      0\n",
            "Country                                    122\n",
            "Abbreviation                               122\n",
            "channel_type                                30\n",
            "video_views_rank                             0\n",
            "country_rank                                 0\n",
            "channel_type_rank                            0\n",
            "video_views_for_the_last_30_days             0\n",
            "lowest_monthly_earnings                      0\n",
            "highest_monthly_earnings                     0\n",
            "lowest_yearly_earnings                       0\n",
            "highest_yearly_earnings                      0\n",
            "subscribers_for_last_30_days                 0\n",
            "created_year                                 0\n",
            "created_month                                5\n",
            "created_date                                 0\n",
            "Gross tertiary education enrollment (%)      0\n",
            "Population                                   0\n",
            "Unemployment rate                            0\n",
            "Urban_population                             0\n",
            "Latitude                                     0\n",
            "Longitude                                    0\n",
            "dtype: int64\n"
          ]
        }
      ]
    },
    {
      "cell_type": "code",
      "source": [
        "#7 Перевірте, скільки унікальних країн представлено у колонці \"Country\":\n",
        "\n",
        "# Кількість унікальних країн за nunique()\n",
        "kilkist_unicalnih_krayin = df['Country'].nunique()\n",
        "print(\"Кількість унікальних країн:\", kilkist_unicalnih_krayin)\n",
        "\n",
        "# Використання unique() для виведення унікальних значень\n",
        "unicalni_krayiny = df['Country'].unique()\n",
        "print(\"Унікальні країни:\", unicalni_krayiny)"
      ],
      "metadata": {
        "colab": {
          "base_uri": "https://localhost:8080/"
        },
        "id": "NG8ZkRJ91xPB",
        "outputId": "02edaba3-cd0a-4c16-812a-0cf455bdb24a"
      },
      "execution_count": 95,
      "outputs": [
        {
          "output_type": "stream",
          "name": "stdout",
          "text": [
            "Кількість унікальних країн: 49\n",
            "Унікальні країни: ['India' 'United States' nan 'Japan' 'Russia' 'South Korea'\n",
            " 'United Kingdom' 'Canada' 'Brazil' 'Argentina' 'Chile' 'Cuba'\n",
            " 'El Salvador' 'Pakistan' 'Philippines' 'Thailand' 'Colombia' 'Barbados'\n",
            " 'Mexico' 'United Arab Emirates' 'Spain' 'Saudi Arabia' 'Indonesia'\n",
            " 'Turkey' 'Venezuela' 'Kuwait' 'Jordan' 'Netherlands' 'Singapore'\n",
            " 'Australia' 'Italy' 'Germany' 'France' 'Sweden' 'Afghanistan' 'Ukraine'\n",
            " 'Latvia' 'Switzerland' 'Vietnam' 'Malaysia' 'China' 'Iraq' 'Egypt'\n",
            " 'Andorra' 'Ecuador' 'Morocco' 'Peru' 'Bangladesh' 'Finland' 'Samoa']\n"
          ]
        }
      ]
    },
    {
      "cell_type": "code",
      "source": [
        "#8 Побудуйте діаграму розподілу переглядів (використовуйте kind='hist'):\n",
        "import matplotlib.pyplot as plt\n",
        "plt.figure(figsize=(10, 6))\n",
        "plt.hist(df['video views'], bins=76, color='blue', edgecolor='black')\n",
        "plt.title('Розподіл переглядів')\n",
        "plt.xlabel('Перегляди')\n",
        "plt.ylabel('Кількість')\n",
        "plt.show()"
      ],
      "metadata": {
        "colab": {
          "base_uri": "https://localhost:8080/",
          "height": 564
        },
        "id": "Sge24ILe2egi",
        "outputId": "d8da589d-6811-426f-9bd8-50ce15272c7a"
      },
      "execution_count": 102,
      "outputs": [
        {
          "output_type": "display_data",
          "data": {
            "text/plain": [
              "<Figure size 1000x600 with 1 Axes>"
            ],
            "image/png": "[encoded data removed]"
          },
          "metadata": {}
        }
      ]
    },
    {
      "cell_type": "code",
      "source": [
        "#9 Визначте максимальну, мінімальну, середню кількість переглядів (використовуйте методи max, min, mean):\n",
        "\n",
        "# Максимальна кількість переглядів\n",
        "max_pereglyadu = df['video views'].max()\n",
        "print(\"Максимальна кількість переглядів:\", max_pereglyadu)\n",
        "\n",
        "# Мінімальна кількість переглядів\n",
        "min_pereglyadu = df['video views'].min()\n",
        "print(\"Мінімальна кількість переглядів:\", min_pereglyadu)\n",
        "\n",
        "# Середня кількість переглядів\n",
        "mean_pereglyadu = df['video views'].mean()\n",
        "print(\"Середня кількість переглядів:\", mean_pereglyadu)"
      ],
      "metadata": {
        "colab": {
          "base_uri": "https://localhost:8080/"
        },
        "id": "AHeTN9z63G-m",
        "outputId": "78951eea-b157-4860-ac94-10bdc9b1ab2c"
      },
      "execution_count": 105,
      "outputs": [
        {
          "output_type": "stream",
          "name": "stdout",
          "text": [
            "Максимальна кількість переглядів: 228000000000.0\n",
            "Мінімальна кількість переглядів: 0.0\n",
            "Середня кількість переглядів: 11039537052.03819\n"
          ]
        }
      ]
    },
    {
      "cell_type": "code",
      "source": [
        "#10 Знайдіть країну, де найбільше відео було завантажено на YouTube:\n",
        "\n",
        "# Агрегування даних за країнами і підрахунок кількості відео\n",
        "kilkist_video_krayiny = df['Country'].value_counts()\n",
        "\n",
        "# Знаходження країни з найбільшою кількістю відео\n",
        "krayiny_naybilsche_video = kilkist_video_krayiny.idxmax()\n",
        "max_videos_kilkist = kilkist_video_krayiny.max()\n",
        "\n",
        "print(f\"Країна з найбільшою кількістю відео на YouTube: {krayiny_naybilsche_video} ({max_videos_kilkist} відео)\")"
      ],
      "metadata": {
        "colab": {
          "base_uri": "https://localhost:8080/"
        },
        "id": "WAaIHDhW3Iv4",
        "outputId": "250a719d-e3ea-4bb6-e3a1-7ba011eac2d0"
      },
      "execution_count": 106,
      "outputs": [
        {
          "output_type": "stream",
          "name": "stdout",
          "text": [
            "Країна з найбільшою кількістю відео на YouTube: United States (313 відео)\n"
          ]
        }
      ]
    },
    {
      "cell_type": "code",
      "source": [
        "#11 Знайдіть відео (виведіть його назву) з найбільшою та найменшою кількістю завантажень uploads:\n",
        "\n",
        "# Знаходження індексу відео з найбільшою кількістю завантажень\n",
        "max_zavantazhennya_index = df['uploads'].idxmax()\n",
        "video_z_max_zavantazhennya = df.loc[max_zavantazhennya_index, 'Youtuber']\n",
        "\n",
        "# Знаходження індексу відео з найменшою кількістю заванажень\n",
        "min_zavantazhennya_index = df['uploads'].idxmin()\n",
        "video_z_min_zavantazhennya = df.loc[min_zavantazhennya_index, 'Youtuber']\n",
        "\n",
        "print(f\"Відео з найбільшою кількістю завантажень: {video_z_max_zavantazhennya}\")\n",
        "print(f\"Відео з найменшою кількістю завантажень: {video_z_min_zavantazhennya}\")"
      ],
      "metadata": {
        "colab": {
          "base_uri": "https://localhost:8080/"
        },
        "id": "7SJURTTQ3JCH",
        "outputId": "5ee737a3-bc0a-4b97-e1c7-2a36b097b6c7"
      },
      "execution_count": 108,
      "outputs": [
        {
          "output_type": "stream",
          "name": "stdout",
          "text": [
            "Відео з найбільшою кількістю завантажень: ABP NEWS\n",
            "Відео з найменшою кількістю завантажень: Music\n"
          ]
        }
      ]
    }
  ]
}